{
  "cells": [
    {
      "cell_type": "code",
      "source": [
        "#importing libraries\n",
        "from sklearn.datasets import load_diabetes\n",
        "from sklearn.model_selection import train_test_split\n",
        "from sklearn.linear_model import LinearRegression\n",
        "import joblib\n",
        "import os\n",
        "\n",
        "#Load the diabetes dataset\n",
        "diabetes = load_diabetes()\n",
        "x = diabetes.data\n",
        "y = diabetes.target\n",
        "\n",
        "#split the dataset\n",
        "x_train, x_test, y_train, y_test = train_test_split(\n",
        "    x,y, test_size =0.3, random_state =42\n",
        ")\n",
        "#train a linear regression model\n",
        "model = LinearRegression()\n",
        "model.fit(x_train, y_train)\n",
        "\n",
        "\n",
        "#Evaluation the model\n",
        "score = model.score(x_test, y_test)\n",
        "print(f\"MOdel R squared Score: {score: 2f}\")\n",
        "\n",
        "#save the trained model locally\n",
        "os.makedirs('outputs', exist_ok= True)\n",
        "joblib.dump(model, 'outputs/model.pkl')\n"
      ],
      "outputs": [
        {
          "output_type": "stream",
          "name": "stdout",
          "text": "MOdel R squared Score:  0.477290\n"
        },
        {
          "output_type": "execute_result",
          "execution_count": 3,
          "data": {
            "text/plain": "['outputs/model.pkl']"
          },
          "metadata": {}
        }
      ],
      "execution_count": 3,
      "metadata": {
        "gather": {
          "logged": 1745851843635
        }
      }
    },
    {
      "cell_type": "code",
      "source": [
        "import pandas as pd\n",
        "df = pd.DataFrame(data=diabetes.data, columns=diabetes.feature_names)\n",
        "df['target'] = diabetes.target\n",
        "print(df.head(500))"
      ],
      "outputs": [
        {
          "output_type": "stream",
          "name": "stdout",
          "text": "          age       sex       bmi        bp        s1        s2        s3  \\\n0    0.038076  0.050680  0.061696  0.021872 -0.044223 -0.034821 -0.043401   \n1   -0.001882 -0.044642 -0.051474 -0.026328 -0.008449 -0.019163  0.074412   \n2    0.085299  0.050680  0.044451 -0.005670 -0.045599 -0.034194 -0.032356   \n3   -0.089063 -0.044642 -0.011595 -0.036656  0.012191  0.024991 -0.036038   \n4    0.005383 -0.044642 -0.036385  0.021872  0.003935  0.015596  0.008142   \n..        ...       ...       ...       ...       ...       ...       ...   \n437  0.041708  0.050680  0.019662  0.059744 -0.005697 -0.002566 -0.028674   \n438 -0.005515  0.050680 -0.015906 -0.067642  0.049341  0.079165 -0.028674   \n439  0.041708  0.050680 -0.015906  0.017293 -0.037344 -0.013840 -0.024993   \n440 -0.045472 -0.044642  0.039062  0.001215  0.016318  0.015283 -0.028674   \n441 -0.045472 -0.044642 -0.073030 -0.081413  0.083740  0.027809  0.173816   \n\n           s4        s5        s6  target  \n0   -0.002592  0.019907 -0.017646   151.0  \n1   -0.039493 -0.068332 -0.092204    75.0  \n2   -0.002592  0.002861 -0.025930   141.0  \n3    0.034309  0.022688 -0.009362   206.0  \n4   -0.002592 -0.031988 -0.046641   135.0  \n..        ...       ...       ...     ...  \n437 -0.002592  0.031193  0.007207   178.0  \n438  0.034309 -0.018114  0.044485   104.0  \n439 -0.011080 -0.046883  0.015491   132.0  \n440  0.026560  0.044529 -0.025930   220.0  \n441 -0.039493 -0.004222  0.003064    57.0  \n\n[442 rows x 11 columns]\n"
        }
      ],
      "execution_count": 4,
      "metadata": {
        "gather": {
          "logged": 1745851846447
        }
      }
    },
    {
      "cell_type": "code",
      "source": [
        "print(diabetes.data.shape)"
      ],
      "outputs": [
        {
          "output_type": "stream",
          "name": "stdout",
          "text": "(442, 10)\n"
        }
      ],
      "execution_count": 5,
      "metadata": {
        "gather": {
          "logged": 1745851850544
        }
      }
    },
    {
      "cell_type": "code",
      "source": [
        "from azureml.core import Workspace, Model\n",
        "\n",
        "#connect to workspace\n",
        "ws = Workspace.from_config()\n",
        "\n",
        "#register the model\n",
        "model = Model.register(\n",
        "workspace = ws,\n",
        "model_path = \"outputs/model.pkl\",\n",
        "model_name=\"diabetes-linear-regression-model\",\n",
        "description= \"A linear regression model to predict diabetes disease progression.\"\n",
        ")\n",
        "\n",
        "print(f\"Registered Model: {model.name}, Version:{model.version}\")"
      ],
      "outputs": [
        {
          "output_type": "stream",
          "name": "stdout",
          "text": "Registering model diabetes-linear-regression-model\nRegistered Model: diabetes-linear-regression-model, Version:10\n"
        }
      ],
      "execution_count": 10,
      "metadata": {
        "gather": {
          "logged": 1745797270804
        }
      }
    },
    {
      "cell_type": "code",
      "source": [
        "# Load the diabetes dataset\n",
        "diabetes = load_diabetes()\n",
        "\n",
        "# Create a DataFrame for the features\n",
        "df_features = pd.DataFrame(diabetes.data, columns=diabetes.feature_names)\n",
        "\n",
        "# Add the target variable (diabetes progression) to the DataFrame\n",
        "df_target = pd.DataFrame(diabetes.target, columns=['target'])\n",
        "\n",
        "# Combine features and target into one DataFrame\n",
        "df = pd.concat([df_features, df_target], axis=1)\n",
        "\n",
        "# Save to CSV\n",
        "df.to_csv('diabetes_dataset.csv', index=False)\n",
        "\n",
        "print(\"Diabetes dataset saved as 'diabetes_dataset.csv'\")"
      ],
      "outputs": [
        {
          "output_type": "stream",
          "name": "stdout",
          "text": "Diabetes dataset saved as 'diabetes_dataset.csv'\n"
        }
      ],
      "execution_count": 9,
      "metadata": {
        "gather": {
          "logged": 1745852114214
        }
      }
    },
    {
      "cell_type": "code",
      "source": [
        "from azureml.core import Workspace\n",
        "\n",
        "subscription_id= \"0ab167ad-f649-4056-9c8e-14d7431715ba\"\n",
        "resource_group= \"smartdatacohort25\"\n",
        "workspace_name= \"yohanmachinelearning\"\n",
        "region= \"eastus\"\n",
        "\n",
        "ws = Workspace.get(\n",
        "    name=workspace_name,\n",
        "    subscription_id=subscription_id,\n",
        "    resource_group = resource_group\n",
        ")\n",
        "print(f\"workspace {ws.name} loaded successfully.\")"
      ],
      "outputs": [
        {
          "output_type": "stream",
          "name": "stdout",
          "text": "workspace yohanmachinelearning loaded successfully.\n"
        }
      ],
      "execution_count": 12,
      "metadata": {
        "gather": {
          "logged": 1745852261372
        }
      }
    },
    {
      "cell_type": "code",
      "source": [
        "model_path = 'outputs/model.pkl'"
      ],
      "outputs": [],
      "execution_count": 13,
      "metadata": {
        "gather": {
          "logged": 1745852267838
        }
      }
    },
    {
      "cell_type": "code",
      "source": [
        "model_name = 'diabetes-linear-regression-model'"
      ],
      "outputs": [],
      "execution_count": 14,
      "metadata": {
        "gather": {
          "logged": 1745852269192
        }
      }
    },
    {
      "cell_type": "code",
      "source": [
        "from azureml.core import Model\n",
        "register_model = Model.register(\n",
        "    model_path = model_path,\n",
        "    model_name = model_name,\n",
        "    workspace =ws \n",
        ")"
      ],
      "outputs": [
        {
          "output_type": "stream",
          "name": "stdout",
          "text": "Registering model diabetes-linear-regression-model\n"
        }
      ],
      "execution_count": 24,
      "metadata": {
        "gather": {
          "logged": 1745853480523
        }
      }
    },
    {
      "cell_type": "code",
      "source": [
        "from azureml.core.environment import Environment\n",
        "from azureml.core.conda_dependencies import CondaDependencies\n",
        "conda_env = Environment('my-conda-env')\n",
        "conda_env.python.conda_dependencies = CondaDependencies.create(conda_packages=['scikit-learn'])"
      ],
      "outputs": [],
      "execution_count": 35,
      "metadata": {
        "gather": {
          "logged": 1745854052553
        }
      }
    },
    {
      "cell_type": "code",
      "source": [
        "from azureml.core.webservice import AciWebservice, webservice\n",
        "aci_config = AciWebservice.deploy_configuration(\n",
        "    cpu_cores=1,\n",
        "    memory_gb=1\n",
        ")"
      ],
      "outputs": [],
      "execution_count": 36,
      "metadata": {
        "gather": {
          "logged": 1745854055135
        }
      }
    },
    {
      "cell_type": "code",
      "source": [
        "service = Model.deploy(\n",
        "    workspace=ws,\n",
        "    name='diabetes-prediction-service2',\n",
        "    models=[register_model],\n",
        "    inference_config=inference_config,\n",
        "    deployment_config=aci_config\n",
        ")\n",
        "service.wait_for_deployment(show_output=True)"
      ],
      "outputs": [
        {
          "output_type": "stream",
          "name": "stderr",
          "text": "/tmp/ipykernel_3050/3983759604.py:1: FutureWarning: azureml.core.model:\nTo leverage new model deployment capabilities, AzureML recommends using CLI/SDK v2 to deploy models as online endpoint, \nplease refer to respective documentations \nhttps://docs.microsoft.com/azure/machine-learning/how-to-deploy-managed-online-endpoints /\nhttps://docs.microsoft.com/azure/machine-learning/how-to-attach-kubernetes-anywhere \nFor more information on migration, see https://aka.ms/acimoemigration \nTo disable CLI/SDK v1 deprecation warning set AZUREML_LOG_DEPRECATION_WARNING_ENABLED to 'False'\n  service = Model.deploy(\nService deployment polling reached non-successful terminal state, current service state: Transitioning\nOperation ID: aaae86d7-ab42-4179-b051-26240cc53a8d\nMore information can be found using '.get_logs()'\nError:\n{\n  \"code\": \"AuthorizationFailed\",\n  \"statusCode\": 403,\n  \"message\": \"ACI Service request failed. Reason: The client '8386fe20-c1df-46d7-a2b4-8547841bf49b' with object id '8386fe20-c1df-46d7-a2b4-8547841bf49b' does not have authorization to perform action 'Microsoft.ContainerInstance/containerGroups/write' over scope '/subscriptions/0ab167ad-f649-4056-9c8e-14d7431715ba/resourceGroups/smartdatacohort25/providers/Microsoft.ContainerInstance/containerGroups/diabetes-prediction-service2-Nz4f7aSICUCSiop_dz0yDA' or the scope is invalid. If access was recently granted, please refresh your credentials..\"\n}\n\n"
        },
        {
          "output_type": "stream",
          "name": "stdout",
          "text": "Tips: You can try get_logs(): https://aka.ms/debugimage#dockerlog or local deployment: https://aka.ms/debugimage#debug-locally to debug if deployment takes longer than 10 minutes.\nRunning\n2025-04-28 15:28:14+00:00 Creating Container Registry if not exists.\n2025-04-28 15:28:14+00:00 Use the existing image.\n2025-04-28 15:28:17+00:00 Submitting deployment to compute.\nFailed\n"
        },
        {
          "output_type": "error",
          "ename": "WebserviceException",
          "evalue": "WebserviceException:\n\tMessage: Service deployment polling reached non-successful terminal state, current service state: Transitioning\nOperation ID: aaae86d7-ab42-4179-b051-26240cc53a8d\nMore information can be found using '.get_logs()'\nError:\n{\n  \"code\": \"AuthorizationFailed\",\n  \"statusCode\": 403,\n  \"message\": \"ACI Service request failed. Reason: The client '8386fe20-c1df-46d7-a2b4-8547841bf49b' with object id '8386fe20-c1df-46d7-a2b4-8547841bf49b' does not have authorization to perform action 'Microsoft.ContainerInstance/containerGroups/write' over scope '/subscriptions/0ab167ad-f649-4056-9c8e-14d7431715ba/resourceGroups/smartdatacohort25/providers/Microsoft.ContainerInstance/containerGroups/diabetes-prediction-service2-Nz4f7aSICUCSiop_dz0yDA' or the scope is invalid. If access was recently granted, please refresh your credentials..\"\n}\n\tInnerException None\n\tErrorResponse \n{\n    \"error\": {\n        \"message\": \"Service deployment polling reached non-successful terminal state, current service state: Transitioning\\nOperation ID: aaae86d7-ab42-4179-b051-26240cc53a8d\\nMore information can be found using '.get_logs()'\\nError:\\n{\\n  \\\"code\\\": \\\"AuthorizationFailed\\\",\\n  \\\"statusCode\\\": 403,\\n  \\\"message\\\": \\\"ACI Service request failed. Reason: The client '8386fe20-c1df-46d7-a2b4-8547841bf49b' with object id '8386fe20-c1df-46d7-a2b4-8547841bf49b' does not have authorization to perform action 'Microsoft.ContainerInstance/containerGroups/write' over scope '/subscriptions/0ab167ad-f649-4056-9c8e-14d7431715ba/resourceGroups/smartdatacohort25/providers/Microsoft.ContainerInstance/containerGroups/diabetes-prediction-service2-Nz4f7aSICUCSiop_dz0yDA' or the scope is invalid. If access was recently granted, please refresh your credentials..\\\"\\n}\"\n    }\n}",
          "traceback": [
            "\u001b[0;31m---------------------------------------------------------------------------\u001b[0m",
            "\u001b[0;31mWebserviceException\u001b[0m                       Traceback (most recent call last)",
            "Cell \u001b[0;32mIn[39], line 8\u001b[0m\n\u001b[1;32m      1\u001b[0m service \u001b[38;5;241m=\u001b[39m Model\u001b[38;5;241m.\u001b[39mdeploy(\n\u001b[1;32m      2\u001b[0m     workspace\u001b[38;5;241m=\u001b[39mws,\n\u001b[1;32m      3\u001b[0m     name\u001b[38;5;241m=\u001b[39m\u001b[38;5;124m'\u001b[39m\u001b[38;5;124mdiabetes-prediction-service2\u001b[39m\u001b[38;5;124m'\u001b[39m,\n\u001b[0;32m   (...)\u001b[0m\n\u001b[1;32m      6\u001b[0m     deployment_config\u001b[38;5;241m=\u001b[39maci_config\n\u001b[1;32m      7\u001b[0m )\n\u001b[0;32m----> 8\u001b[0m \u001b[43mservice\u001b[49m\u001b[38;5;241;43m.\u001b[39;49m\u001b[43mwait_for_deployment\u001b[49m\u001b[43m(\u001b[49m\u001b[43mshow_output\u001b[49m\u001b[38;5;241;43m=\u001b[39;49m\u001b[38;5;28;43;01mTrue\u001b[39;49;00m\u001b[43m)\u001b[49m\n",
            "File \u001b[0;32m/anaconda/envs/azureml_py310_sdkv2/lib/python3.10/site-packages/azureml/core/webservice/webservice.py:910\u001b[0m, in \u001b[0;36mWebservice.wait_for_deployment\u001b[0;34m(self, show_output, timeout_sec)\u001b[0m\n\u001b[1;32m    907\u001b[0m         \u001b[38;5;28;01mif\u001b[39;00m \u001b[38;5;129;01mnot\u001b[39;00m logs_response:\n\u001b[1;32m    908\u001b[0m             logs_response \u001b[38;5;241m=\u001b[39m \u001b[38;5;124m'\u001b[39m\u001b[38;5;124mCurrent sub-operation type not known, more logs unavailable.\u001b[39m\u001b[38;5;124m'\u001b[39m\n\u001b[0;32m--> 910\u001b[0m         \u001b[38;5;28;01mraise\u001b[39;00m WebserviceException(\u001b[38;5;124m'\u001b[39m\u001b[38;5;124mService deployment polling reached non-successful terminal state, current \u001b[39m\u001b[38;5;124m'\u001b[39m\n\u001b[1;32m    911\u001b[0m                                   \u001b[38;5;124m'\u001b[39m\u001b[38;5;124mservice state: \u001b[39m\u001b[38;5;132;01m{}\u001b[39;00m\u001b[38;5;130;01m\\n\u001b[39;00m\u001b[38;5;124m'\u001b[39m\n\u001b[1;32m    912\u001b[0m                                   \u001b[38;5;124m'\u001b[39m\u001b[38;5;124mOperation ID: \u001b[39m\u001b[38;5;132;01m{}\u001b[39;00m\u001b[38;5;130;01m\\n\u001b[39;00m\u001b[38;5;124m'\u001b[39m\n\u001b[1;32m    913\u001b[0m                                   \u001b[38;5;124m'\u001b[39m\u001b[38;5;132;01m{}\u001b[39;00m\u001b[38;5;130;01m\\n\u001b[39;00m\u001b[38;5;124m'\u001b[39m\n\u001b[1;32m    914\u001b[0m                                   \u001b[38;5;124m'\u001b[39m\u001b[38;5;124mError:\u001b[39m\u001b[38;5;130;01m\\n\u001b[39;00m\u001b[38;5;124m'\u001b[39m\n\u001b[1;32m    915\u001b[0m                                   \u001b[38;5;124m'\u001b[39m\u001b[38;5;132;01m{}\u001b[39;00m\u001b[38;5;124m'\u001b[39m\u001b[38;5;241m.\u001b[39mformat(\u001b[38;5;28mself\u001b[39m\u001b[38;5;241m.\u001b[39mstate, \u001b[38;5;28mself\u001b[39m\u001b[38;5;241m.\u001b[39m_operation_endpoint\u001b[38;5;241m.\u001b[39msplit(\u001b[38;5;124m'\u001b[39m\u001b[38;5;124m/\u001b[39m\u001b[38;5;124m'\u001b[39m)[\u001b[38;5;241m-\u001b[39m\u001b[38;5;241m1\u001b[39m],\n\u001b[1;32m    916\u001b[0m                                               logs_response, format_error_response), logger\u001b[38;5;241m=\u001b[39mmodule_logger)\n\u001b[1;32m    917\u001b[0m     \u001b[38;5;28mprint\u001b[39m(\u001b[38;5;124m'\u001b[39m\u001b[38;5;132;01m{}\u001b[39;00m\u001b[38;5;124m service creation operation finished, operation \u001b[39m\u001b[38;5;124m\"\u001b[39m\u001b[38;5;132;01m{}\u001b[39;00m\u001b[38;5;124m\"\u001b[39m\u001b[38;5;124m'\u001b[39m\u001b[38;5;241m.\u001b[39mformat(\u001b[38;5;28mself\u001b[39m\u001b[38;5;241m.\u001b[39m_webservice_type,\n\u001b[1;32m    918\u001b[0m                                                                           operation_state))\n\u001b[1;32m    919\u001b[0m \u001b[38;5;28;01mexcept\u001b[39;00m WebserviceException \u001b[38;5;28;01mas\u001b[39;00m e:\n",
            "\u001b[0;31mWebserviceException\u001b[0m: WebserviceException:\n\tMessage: Service deployment polling reached non-successful terminal state, current service state: Transitioning\nOperation ID: aaae86d7-ab42-4179-b051-26240cc53a8d\nMore information can be found using '.get_logs()'\nError:\n{\n  \"code\": \"AuthorizationFailed\",\n  \"statusCode\": 403,\n  \"message\": \"ACI Service request failed. Reason: The client '8386fe20-c1df-46d7-a2b4-8547841bf49b' with object id '8386fe20-c1df-46d7-a2b4-8547841bf49b' does not have authorization to perform action 'Microsoft.ContainerInstance/containerGroups/write' over scope '/subscriptions/0ab167ad-f649-4056-9c8e-14d7431715ba/resourceGroups/smartdatacohort25/providers/Microsoft.ContainerInstance/containerGroups/diabetes-prediction-service2-Nz4f7aSICUCSiop_dz0yDA' or the scope is invalid. If access was recently granted, please refresh your credentials..\"\n}\n\tInnerException None\n\tErrorResponse \n{\n    \"error\": {\n        \"message\": \"Service deployment polling reached non-successful terminal state, current service state: Transitioning\\nOperation ID: aaae86d7-ab42-4179-b051-26240cc53a8d\\nMore information can be found using '.get_logs()'\\nError:\\n{\\n  \\\"code\\\": \\\"AuthorizationFailed\\\",\\n  \\\"statusCode\\\": 403,\\n  \\\"message\\\": \\\"ACI Service request failed. Reason: The client '8386fe20-c1df-46d7-a2b4-8547841bf49b' with object id '8386fe20-c1df-46d7-a2b4-8547841bf49b' does not have authorization to perform action 'Microsoft.ContainerInstance/containerGroups/write' over scope '/subscriptions/0ab167ad-f649-4056-9c8e-14d7431715ba/resourceGroups/smartdatacohort25/providers/Microsoft.ContainerInstance/containerGroups/diabetes-prediction-service2-Nz4f7aSICUCSiop_dz0yDA' or the scope is invalid. If access was recently granted, please refresh your credentials..\\\"\\n}\"\n    }\n}"
          ]
        }
      ],
      "execution_count": 39,
      "metadata": {
        "gather": {
          "logged": 1745854112433
        }
      }
    },
    {
      "cell_type": "code",
      "source": [
        "from azureml.core.webservice import AciWebservice, Webservice\n",
        "from azureml.core.model import InferenceConfig\n",
        "from azureml.core.environment import Environment \n",
        "\n",
        "env = Environment.get(workspace = ws, name= \"AzureML-sklearn-1.0-ubuntu20.04-py38-cpu\")\n",
        "#Define Infrence environment\n",
        "inference_config = InferenceConfig(\n",
        "    entry_script= \"score.py\",\n",
        "    environment = env\n",
        ")\n",
        "\n",
        "#Deployment Configuration \n",
        "deployment_config = AciWebservice.deploy_configuration(\n",
        "    cpu_cores =1,\n",
        "    memory_gb=1 \n",
        ")\n",
        "\n",
        "#Deploy the model \n",
        "service = Model.deploy(\n",
        "    workspace = ws,\n",
        "    name = \"diabetes-prediction-service1\",\n",
        "    models = [model],\n",
        "    inference_config = inference_config,\n",
        "    deployment_config = deployment_config,\n",
        "    overwrite =True\n",
        ")\n",
        "\n",
        "service.wait_for_deployment(show_output=True)\n",
        "print(f\"Service state: {service.state}\")\n",
        "print(f\"Scoring URI: {service.scoring_uri}\")"
      ],
      "outputs": [
        {
          "output_type": "stream",
          "name": "stderr",
          "text": "/tmp/ipykernel_3050/83560948.py:19: FutureWarning: azureml.core.model:\nTo leverage new model deployment capabilities, AzureML recommends using CLI/SDK v2 to deploy models as online endpoint, \nplease refer to respective documentations \nhttps://docs.microsoft.com/azure/machine-learning/how-to-deploy-managed-online-endpoints /\nhttps://docs.microsoft.com/azure/machine-learning/how-to-attach-kubernetes-anywhere \nFor more information on migration, see https://aka.ms/acimoemigration \nTo disable CLI/SDK v1 deprecation warning set AZUREML_LOG_DEPRECATION_WARNING_ENABLED to 'False'\n  service = Model.deploy(\n"
        },
        {
          "output_type": "error",
          "ename": "AttributeError",
          "evalue": "'LinearRegression' object has no attribute 'id'",
          "traceback": [
            "\u001b[0;31m---------------------------------------------------------------------------\u001b[0m",
            "\u001b[0;31mAttributeError\u001b[0m                            Traceback (most recent call last)",
            "Cell \u001b[0;32mIn[34], line 19\u001b[0m\n\u001b[1;32m     13\u001b[0m deployment_config \u001b[38;5;241m=\u001b[39m AciWebservice\u001b[38;5;241m.\u001b[39mdeploy_configuration(\n\u001b[1;32m     14\u001b[0m     cpu_cores \u001b[38;5;241m=\u001b[39m\u001b[38;5;241m1\u001b[39m,\n\u001b[1;32m     15\u001b[0m     memory_gb\u001b[38;5;241m=\u001b[39m\u001b[38;5;241m1\u001b[39m \n\u001b[1;32m     16\u001b[0m )\n\u001b[1;32m     18\u001b[0m \u001b[38;5;66;03m#Deploy the model \u001b[39;00m\n\u001b[0;32m---> 19\u001b[0m service \u001b[38;5;241m=\u001b[39m \u001b[43mModel\u001b[49m\u001b[38;5;241;43m.\u001b[39;49m\u001b[43mdeploy\u001b[49m\u001b[43m(\u001b[49m\n\u001b[1;32m     20\u001b[0m \u001b[43m    \u001b[49m\u001b[43mworkspace\u001b[49m\u001b[43m \u001b[49m\u001b[38;5;241;43m=\u001b[39;49m\u001b[43m \u001b[49m\u001b[43mws\u001b[49m\u001b[43m,\u001b[49m\n\u001b[1;32m     21\u001b[0m \u001b[43m    \u001b[49m\u001b[43mname\u001b[49m\u001b[43m \u001b[49m\u001b[38;5;241;43m=\u001b[39;49m\u001b[43m \u001b[49m\u001b[38;5;124;43m\"\u001b[39;49m\u001b[38;5;124;43mdiabetes-prediction-service1\u001b[39;49m\u001b[38;5;124;43m\"\u001b[39;49m\u001b[43m,\u001b[49m\n\u001b[1;32m     22\u001b[0m \u001b[43m    \u001b[49m\u001b[43mmodels\u001b[49m\u001b[43m \u001b[49m\u001b[38;5;241;43m=\u001b[39;49m\u001b[43m \u001b[49m\u001b[43m[\u001b[49m\u001b[43mmodel\u001b[49m\u001b[43m]\u001b[49m\u001b[43m,\u001b[49m\n\u001b[1;32m     23\u001b[0m \u001b[43m    \u001b[49m\u001b[43minference_config\u001b[49m\u001b[43m \u001b[49m\u001b[38;5;241;43m=\u001b[39;49m\u001b[43m \u001b[49m\u001b[43minference_config\u001b[49m\u001b[43m,\u001b[49m\n\u001b[1;32m     24\u001b[0m \u001b[43m    \u001b[49m\u001b[43mdeployment_config\u001b[49m\u001b[43m \u001b[49m\u001b[38;5;241;43m=\u001b[39;49m\u001b[43m \u001b[49m\u001b[43mdeployment_config\u001b[49m\u001b[43m,\u001b[49m\n\u001b[1;32m     25\u001b[0m \u001b[43m    \u001b[49m\u001b[43moverwrite\u001b[49m\u001b[43m \u001b[49m\u001b[38;5;241;43m=\u001b[39;49m\u001b[38;5;28;43;01mTrue\u001b[39;49;00m\n\u001b[1;32m     26\u001b[0m \u001b[43m)\u001b[49m\n\u001b[1;32m     28\u001b[0m service\u001b[38;5;241m.\u001b[39mwait_for_deployment(show_output\u001b[38;5;241m=\u001b[39m\u001b[38;5;28;01mTrue\u001b[39;00m)\n\u001b[1;32m     29\u001b[0m \u001b[38;5;28mprint\u001b[39m(\u001b[38;5;124mf\u001b[39m\u001b[38;5;124m\"\u001b[39m\u001b[38;5;124mService state: \u001b[39m\u001b[38;5;132;01m{\u001b[39;00mservice\u001b[38;5;241m.\u001b[39mstate\u001b[38;5;132;01m}\u001b[39;00m\u001b[38;5;124m\"\u001b[39m)\n",
            "File \u001b[0;32m/anaconda/envs/azureml_py310_sdkv2/lib/python3.10/site-packages/azureml/core/model.py:1680\u001b[0m, in \u001b[0;36mModel.deploy\u001b[0;34m(workspace, name, models, inference_config, deployment_config, deployment_target, overwrite, show_output)\u001b[0m\n\u001b[1;32m   1677\u001b[0m     use_env_path \u001b[38;5;241m=\u001b[39m inference_config\u001b[38;5;241m.\u001b[39menvironment \u001b[38;5;129;01mis\u001b[39;00m \u001b[38;5;129;01mnot\u001b[39;00m \u001b[38;5;28;01mNone\u001b[39;00m\n\u001b[1;32m   1679\u001b[0m \u001b[38;5;28;01mif\u001b[39;00m use_env_path:\n\u001b[0;32m-> 1680\u001b[0m     \u001b[38;5;28;01mreturn\u001b[39;00m \u001b[43mModel\u001b[49m\u001b[38;5;241;43m.\u001b[39;49m\u001b[43m_deploy_with_environment\u001b[49m\u001b[43m(\u001b[49m\u001b[43mworkspace\u001b[49m\u001b[43m,\u001b[49m\u001b[43m \u001b[49m\u001b[43mname\u001b[49m\u001b[43m,\u001b[49m\u001b[43m \u001b[49m\u001b[43mmodels\u001b[49m\u001b[43m,\u001b[49m\u001b[43m \u001b[49m\u001b[43minference_config\u001b[49m\u001b[43m,\u001b[49m\u001b[43m \u001b[49m\u001b[43mdeployment_config\u001b[49m\u001b[43m,\u001b[49m\n\u001b[1;32m   1681\u001b[0m \u001b[43m                                          \u001b[49m\u001b[43mdeployment_target\u001b[49m\u001b[43m,\u001b[49m\u001b[43m \u001b[49m\u001b[43moverwrite\u001b[49m\u001b[43m,\u001b[49m\u001b[43m \u001b[49m\u001b[43mshow_output\u001b[49m\u001b[43m)\u001b[49m\n\u001b[1;32m   1683\u001b[0m \u001b[38;5;66;03m# ContainerImage-based webservice.\u001b[39;00m\n\u001b[1;32m   1684\u001b[0m \u001b[38;5;28;01mif\u001b[39;00m deployment_config\u001b[38;5;241m.\u001b[39m_webservice_type\u001b[38;5;241m.\u001b[39m_webservice_type \u001b[38;5;129;01min\u001b[39;00m \\\n\u001b[1;32m   1685\u001b[0m    (MIR_WEBSERVICE_TYPE, AKS_ENDPOINT_TYPE):\n",
            "File \u001b[0;32m/anaconda/envs/azureml_py310_sdkv2/lib/python3.10/site-packages/azureml/core/model.py:1885\u001b[0m, in \u001b[0;36mModel._deploy_with_environment\u001b[0;34m(workspace, name, models, inference_config, deployment_config, deployment_target, overwrite, show_output)\u001b[0m\n\u001b[1;32m   1860\u001b[0m \u001b[38;5;129m@staticmethod\u001b[39m\n\u001b[1;32m   1861\u001b[0m \u001b[38;5;28;01mdef\u001b[39;00m \u001b[38;5;21m_deploy_with_environment\u001b[39m(workspace, name, models, inference_config, deployment_config, deployment_target,\n\u001b[1;32m   1862\u001b[0m                              overwrite, show_output):\n\u001b[1;32m   1863\u001b[0m \u001b[38;5;250m    \u001b[39m\u001b[38;5;124;03m\"\"\"Deploy the model using an environment object.\u001b[39;00m\n\u001b[1;32m   1864\u001b[0m \n\u001b[1;32m   1865\u001b[0m \u001b[38;5;124;03m    :param workspace:\u001b[39;00m\n\u001b[0;32m   (...)\u001b[0m\n\u001b[1;32m   1882\u001b[0m \u001b[38;5;124;03m    :rtype: azureml.core.Webservice\u001b[39;00m\n\u001b[1;32m   1883\u001b[0m \u001b[38;5;124;03m    \"\"\"\u001b[39;00m\n\u001b[1;32m   1884\u001b[0m     environment_image_request \u001b[38;5;241m=\u001b[39m \\\n\u001b[0;32m-> 1885\u001b[0m         inference_config\u001b[38;5;241m.\u001b[39m_build_environment_image_request(workspace, [model\u001b[38;5;241m.\u001b[39mid \u001b[38;5;28;01mfor\u001b[39;00m model \u001b[38;5;129;01min\u001b[39;00m models], show_output)\n\u001b[1;32m   1887\u001b[0m     \u001b[38;5;28;01mreturn\u001b[39;00m Model\u001b[38;5;241m.\u001b[39m_deploy_with_environment_image_request(workspace, name, environment_image_request,\n\u001b[1;32m   1888\u001b[0m                                                         deployment_config, deployment_target, overwrite,\n\u001b[1;32m   1889\u001b[0m                                                         show_output)\n",
            "File \u001b[0;32m/anaconda/envs/azureml_py310_sdkv2/lib/python3.10/site-packages/azureml/core/model.py:1885\u001b[0m, in \u001b[0;36m<listcomp>\u001b[0;34m(.0)\u001b[0m\n\u001b[1;32m   1860\u001b[0m \u001b[38;5;129m@staticmethod\u001b[39m\n\u001b[1;32m   1861\u001b[0m \u001b[38;5;28;01mdef\u001b[39;00m \u001b[38;5;21m_deploy_with_environment\u001b[39m(workspace, name, models, inference_config, deployment_config, deployment_target,\n\u001b[1;32m   1862\u001b[0m                              overwrite, show_output):\n\u001b[1;32m   1863\u001b[0m \u001b[38;5;250m    \u001b[39m\u001b[38;5;124;03m\"\"\"Deploy the model using an environment object.\u001b[39;00m\n\u001b[1;32m   1864\u001b[0m \n\u001b[1;32m   1865\u001b[0m \u001b[38;5;124;03m    :param workspace:\u001b[39;00m\n\u001b[0;32m   (...)\u001b[0m\n\u001b[1;32m   1882\u001b[0m \u001b[38;5;124;03m    :rtype: azureml.core.Webservice\u001b[39;00m\n\u001b[1;32m   1883\u001b[0m \u001b[38;5;124;03m    \"\"\"\u001b[39;00m\n\u001b[1;32m   1884\u001b[0m     environment_image_request \u001b[38;5;241m=\u001b[39m \\\n\u001b[0;32m-> 1885\u001b[0m         inference_config\u001b[38;5;241m.\u001b[39m_build_environment_image_request(workspace, [\u001b[43mmodel\u001b[49m\u001b[38;5;241;43m.\u001b[39;49m\u001b[43mid\u001b[49m \u001b[38;5;28;01mfor\u001b[39;00m model \u001b[38;5;129;01min\u001b[39;00m models], show_output)\n\u001b[1;32m   1887\u001b[0m     \u001b[38;5;28;01mreturn\u001b[39;00m Model\u001b[38;5;241m.\u001b[39m_deploy_with_environment_image_request(workspace, name, environment_image_request,\n\u001b[1;32m   1888\u001b[0m                                                         deployment_config, deployment_target, overwrite,\n\u001b[1;32m   1889\u001b[0m                                                         show_output)\n",
            "\u001b[0;31mAttributeError\u001b[0m: 'LinearRegression' object has no attribute 'id'"
          ]
        }
      ],
      "execution_count": 34,
      "metadata": {
        "gather": {
          "logged": 1745853963382
        }
      }
    },
    {
      "cell_type": "code",
      "source": [
        "from azureml.core import Workspace, Model\n",
        "from azureml.core.webservice import AciWebservice\n",
        "from azureml.core.model import InferenceConfig\n",
        "from azureml.core.environment import Environment\n",
        "import time\n",
        "\n",
        "# 1. Get workspace\n",
        "ws = Workspace.from_config()\n",
        "\n",
        "# 2. Prepare deployment with explicit timeout handling\n",
        "env = Environment.get(workspace=ws, name=\"AzureML-sklearn-1.0-ubuntu20.04-py38-cpu\")\n",
        "inference_config = InferenceConfig(\n",
        "    entry_script=\"score.py\",\n",
        "    environment=env\n",
        ")\n",
        "\n",
        "deployment_config = AciWebservice.deploy_configuration(\n",
        "    cpu_cores=1,\n",
        "    memory_gb=1,\n",
        "    auth_enabled=True\n",
        ")\n",
        "\n",
        "# 3. Deploy with manual timeout handling\n",
        "model = Model(ws, name=\"diabetes-linear-regression-model\")\n",
        "service = Model.deploy(\n",
        "    workspace=ws,\n",
        "    name=\"diabetes-prediction-service\",\n",
        "    models=[model],\n",
        "    inference_config=inference_config,\n",
        "    deployment_config=deployment_config,\n",
        "    overwrite=True\n",
        ")\n",
        "\n",
        "# Custom wait logic with timeout (replaces the broken wait_for_deployment(timeout))\n",
        "max_wait_minutes = 20\n",
        "start_time = time.time()\n",
        "\n",
        "while True:\n",
        "    state = service.state.lower()\n",
        "    if state == 'healthy':\n",
        "        print(f\"\\nSuccess! Scoring URI: {service.scoring_uri}\")\n",
        "        break\n",
        "    elif 'fail' in state:\n",
        "        print(f\"\\nDeployment failed. State: {service.state}\")\n",
        "        print(\"Check logs with: service.get_logs()\")\n",
        "        break\n",
        "    \n",
        "    if (time.time() - start_time) > (max_wait_minutes * 60):\n",
        "        print(\"\\nTimeout reached. Deployment may still be in progress.\")\n",
        "        print(f\"Current state: {service.state}\")\n",
        "        print(\"Check logs with: service.get_logs()\")\n",
        "        break\n",
        "    \n",
        "    print(\".\", end=\"\", flush=True)\n",
        "    time.sleep(10)"
      ],
      "outputs": [
        {
          "output_type": "stream",
          "name": "stderr",
          "text": "/tmp/ipykernel_3058/2386266404.py:25: FutureWarning: azureml.core.model:\nTo leverage new model deployment capabilities, AzureML recommends using CLI/SDK v2 to deploy models as online endpoint, \nplease refer to respective documentations \nhttps://docs.microsoft.com/azure/machine-learning/how-to-deploy-managed-online-endpoints /\nhttps://docs.microsoft.com/azure/machine-learning/how-to-attach-kubernetes-anywhere \nFor more information on migration, see https://aka.ms/acimoemigration \nTo disable CLI/SDK v1 deprecation warning set AZUREML_LOG_DEPRECATION_WARNING_ENABLED to 'False'\n  service = Model.deploy(\n"
        },
        {
          "output_type": "stream",
          "name": "stdout",
          "text": "................"
        },
        {
          "output_type": "error",
          "ename": "KeyboardInterrupt",
          "evalue": "",
          "traceback": [
            "\u001b[0;31m---------------------------------------------------------------------------\u001b[0m",
            "\u001b[0;31mKeyboardInterrupt\u001b[0m                         Traceback (most recent call last)",
            "Cell \u001b[0;32mIn[49], line 55\u001b[0m\n\u001b[1;32m     52\u001b[0m     \u001b[38;5;28;01mbreak\u001b[39;00m\n\u001b[1;32m     54\u001b[0m \u001b[38;5;28mprint\u001b[39m(\u001b[38;5;124m\"\u001b[39m\u001b[38;5;124m.\u001b[39m\u001b[38;5;124m\"\u001b[39m, end\u001b[38;5;241m=\u001b[39m\u001b[38;5;124m\"\u001b[39m\u001b[38;5;124m\"\u001b[39m, flush\u001b[38;5;241m=\u001b[39m\u001b[38;5;28;01mTrue\u001b[39;00m)\n\u001b[0;32m---> 55\u001b[0m \u001b[43mtime\u001b[49m\u001b[38;5;241;43m.\u001b[39;49m\u001b[43msleep\u001b[49m\u001b[43m(\u001b[49m\u001b[38;5;241;43m10\u001b[39;49m\u001b[43m)\u001b[49m\n",
            "\u001b[0;31mKeyboardInterrupt\u001b[0m: "
          ]
        }
      ],
      "execution_count": 49,
      "metadata": {
        "gather": {
          "logged": 1745731052162
        }
      }
    },
    {
      "cell_type": "code",
      "source": [
        "from azureml.core import Workspace\n",
        "ws = Workspace.from_config()\n",
        "print(f\"Workspace name: {ws.name}\")\n",
        "print(f\"Resource group: {ws.resource_group}\")\n",
        "print(f\"Subscription ID: {ws.subscription_id}\")"
      ],
      "outputs": [
        {
          "output_type": "stream",
          "name": "stdout",
          "text": "Workspace name: yohanmachinelearning\nResource group: smartdatacohort25\nSubscription ID: 0ab167ad-f649-4056-9c8e-14d7431715ba\n"
        }
      ],
      "execution_count": 56,
      "metadata": {
        "gather": {
          "logged": 1745731246826
        }
      }
    },
    {
      "cell_type": "code",
      "source": [
        "# Run this in your terminal\n",
        "az ml workspace update \\\n",
        "  --name yohanmachinelearning \\\n",
        "  --resource-group smartdatacohort25 \\\n",
        "  --subscription 0ab167ad-f649-4056-9c8e-14d7431715ba \\\n",
        "  --set identity.type=\"SystemAssigned\""
      ],
      "outputs": [
        {
          "output_type": "error",
          "ename": "SyntaxError",
          "evalue": "invalid decimal literal (1417041991.py, line 5)",
          "traceback": [
            "\u001b[0;36m  Cell \u001b[0;32mIn[62], line 5\u001b[0;36m\u001b[0m\n\u001b[0;31m    --subscription 0ab167ad-f649-4056-9c8e-14d7431715ba \\\u001b[0m\n\u001b[0m                   ^\u001b[0m\n\u001b[0;31mSyntaxError\u001b[0m\u001b[0;31m:\u001b[0m invalid decimal literal\n"
          ]
        }
      ],
      "execution_count": 62,
      "metadata": {
        "gather": {
          "logged": 1745731610877
        }
      }
    },
    {
      "cell_type": "code",
      "source": [
        "az role assignment list \\\n",
        "  --assignee $WORKSPACE_OBJ_ID \\\n",
        "  --resource-group smartdatacohort25 \\\n",
        "  --output table"
      ],
      "outputs": [
        {
          "output_type": "error",
          "ename": "SyntaxError",
          "evalue": "invalid syntax (3325934576.py, line 1)",
          "traceback": [
            "\u001b[0;36m  Cell \u001b[0;32mIn[63], line 1\u001b[0;36m\u001b[0m\n\u001b[0;31m    az role assignment list \\\u001b[0m\n\u001b[0m       ^\u001b[0m\n\u001b[0;31mSyntaxError\u001b[0m\u001b[0;31m:\u001b[0m invalid syntax\n"
          ]
        }
      ],
      "execution_count": 63,
      "metadata": {
        "gather": {
          "logged": 1745731716913
        }
      }
    },
    {
      "cell_type": "code",
      "source": [
        "!az ml workspace update \\\n",
        "  --name yohanmachinelearning \\\n",
        "  --resource-group smartdatacohort25 \\\n",
        "  --subscription 0ab167ad-f649-4056-9c8e-14d7431715ba \\\n",
        "  --set identity.type=\"SystemAssigned\"\n"
      ],
      "outputs": [
        {
          "output_type": "stream",
          "name": "stdout",
          "text": "\u001b[93mPreview version of extension is enabled by default for extension installation now. Will be disabled in future release. \u001b[0m\n\u001b[93mPlease run 'az config set extension.dynamic_install_allow_preview=true or false' to config it specifically. \u001b[0m\nThe command requires the extension ml. Do you want to install it now? The command will continue to run after the extension is installed. (Y/n): ^C\n"
        }
      ],
      "execution_count": 66,
      "metadata": {
        "gather": {
          "logged": 1745732320026
        }
      }
    }
  ],
  "metadata": {
    "kernelspec": {
      "name": "python310-sdkv2",
      "language": "python",
      "display_name": "Python 3.10 - SDK v2"
    },
    "language_info": {
      "name": "python",
      "version": "3.10.14",
      "mimetype": "text/x-python",
      "codemirror_mode": {
        "name": "ipython",
        "version": 3
      },
      "pygments_lexer": "ipython3",
      "nbconvert_exporter": "python",
      "file_extension": ".py"
    },
    "microsoft": {
      "ms_spell_check": {
        "ms_spell_check_language": "en"
      },
      "host": {
        "AzureML": {
          "notebookHasBeenCompleted": true
        }
      }
    },
    "kernel_info": {
      "name": "python310-sdkv2"
    },
    "nteract": {
      "version": "nteract-front-end@1.0.0"
    }
  },
  "nbformat": 4,
  "nbformat_minor": 2
}