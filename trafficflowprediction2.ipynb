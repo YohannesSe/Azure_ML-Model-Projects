{
  "cells": [
    {
      "cell_type": "markdown",
      "source": [
        "#### Import Libraries"
      ],
      "metadata": {
        "nteract": {
          "transient": {
            "deleting": false
          }
        }
      }
    },
    {
      "cell_type": "code",
      "source": [
        "import pandas as pd\n",
        "import numpy as np\n",
        "import seaborn as sns\n",
        "from sklearn.model_selection import train_test_split\n",
        "from sklearn.linear_model import LinearRegression\n",
        "from sklearn.metrics import mean_absolute_error, mean_squared_error, r2_score\n",
        "import matplotlib.pyplot as plt"
      ],
      "outputs": [],
      "execution_count": 2,
      "metadata": {
        "gather": {
          "logged": 1744820934785
        }
      }
    },
    {
      "cell_type": "markdown",
      "source": [
        "#### Upload Dataset"
      ],
      "metadata": {
        "nteract": {
          "transient": {
            "deleting": false
          }
        }
      }
    },
    {
      "cell_type": "code",
      "source": [
        "df = pd.read_csv('simulatedtraffic_data2.csv')\n",
        "\n",
        "df.head(5)"
      ],
      "outputs": [
        {
          "output_type": "execute_result",
          "execution_count": 3,
          "data": {
            "text/plain": "   vehicle_id vehicle_type  speed_kmh             timestamp location holiday  \\\n0           1          Car         60  2025-04-08T00:00:00Z   LOC001     NaN   \n1           2        Truck         45  2025-04-14T00:05:00Z   LOC001     NaN   \n2           3    Motorbike         80  2025-04-14T00:10:00Z   LOC001     NaN   \n3           4          Car         70  2025-04-12T00:15:00Z   LOC001     NaN   \n4           5      Bicycle         25  2025-04-14T00:20:00Z   LOC001     NaN   \n\n   temp  rain_1h  snow_1h  clouds_all weather_main weather_description  \\\n0  22.5      0.0        0          10       Clouds           clear sky   \n1  22.0      0.0        0          20       Clouds          few clouds   \n2  21.8      0.0        0          50       Clouds    scattered clouds   \n3  21.5      0.0        0          80       Clouds          light rain   \n4  21.0      1.2        0          90       Clouds       moderate rain   \n\n   traffic_volume  \n0            5545  \n1            4516  \n2            4767  \n3            5026  \n4            4918  ",
            "text/html": "<div>\n<style scoped>\n    .dataframe tbody tr th:only-of-type {\n        vertical-align: middle;\n    }\n\n    .dataframe tbody tr th {\n        vertical-align: top;\n    }\n\n    .dataframe thead th {\n        text-align: right;\n    }\n</style>\n<table border=\"1\" class=\"dataframe\">\n  <thead>\n    <tr style=\"text-align: right;\">\n      <th></th>\n      <th>vehicle_id</th>\n      <th>vehicle_type</th>\n      <th>speed_kmh</th>\n      <th>timestamp</th>\n      <th>location</th>\n      <th>holiday</th>\n      <th>temp</th>\n      <th>rain_1h</th>\n      <th>snow_1h</th>\n      <th>clouds_all</th>\n      <th>weather_main</th>\n      <th>weather_description</th>\n      <th>traffic_volume</th>\n    </tr>\n  </thead>\n  <tbody>\n    <tr>\n      <th>0</th>\n      <td>1</td>\n      <td>Car</td>\n      <td>60</td>\n      <td>2025-04-08T00:00:00Z</td>\n      <td>LOC001</td>\n      <td>NaN</td>\n      <td>22.5</td>\n      <td>0.0</td>\n      <td>0</td>\n      <td>10</td>\n      <td>Clouds</td>\n      <td>clear sky</td>\n      <td>5545</td>\n    </tr>\n    <tr>\n      <th>1</th>\n      <td>2</td>\n      <td>Truck</td>\n      <td>45</td>\n      <td>2025-04-14T00:05:00Z</td>\n      <td>LOC001</td>\n      <td>NaN</td>\n      <td>22.0</td>\n      <td>0.0</td>\n      <td>0</td>\n      <td>20</td>\n      <td>Clouds</td>\n      <td>few clouds</td>\n      <td>4516</td>\n    </tr>\n    <tr>\n      <th>2</th>\n      <td>3</td>\n      <td>Motorbike</td>\n      <td>80</td>\n      <td>2025-04-14T00:10:00Z</td>\n      <td>LOC001</td>\n      <td>NaN</td>\n      <td>21.8</td>\n      <td>0.0</td>\n      <td>0</td>\n      <td>50</td>\n      <td>Clouds</td>\n      <td>scattered clouds</td>\n      <td>4767</td>\n    </tr>\n    <tr>\n      <th>3</th>\n      <td>4</td>\n      <td>Car</td>\n      <td>70</td>\n      <td>2025-04-12T00:15:00Z</td>\n      <td>LOC001</td>\n      <td>NaN</td>\n      <td>21.5</td>\n      <td>0.0</td>\n      <td>0</td>\n      <td>80</td>\n      <td>Clouds</td>\n      <td>light rain</td>\n      <td>5026</td>\n    </tr>\n    <tr>\n      <th>4</th>\n      <td>5</td>\n      <td>Bicycle</td>\n      <td>25</td>\n      <td>2025-04-14T00:20:00Z</td>\n      <td>LOC001</td>\n      <td>NaN</td>\n      <td>21.0</td>\n      <td>1.2</td>\n      <td>0</td>\n      <td>90</td>\n      <td>Clouds</td>\n      <td>moderate rain</td>\n      <td>4918</td>\n    </tr>\n  </tbody>\n</table>\n</div>"
          },
          "metadata": {}
        }
      ],
      "execution_count": 3,
      "metadata": {
        "gather": {
          "logged": 1744820940071
        }
      }
    },
    {
      "cell_type": "markdown",
      "source": [
        "#### Data Preprocessing"
      ],
      "metadata": {
        "nteract": {
          "transient": {
            "deleting": false
          }
        }
      }
    },
    {
      "cell_type": "code",
      "source": [
        "#Structure the data\n",
        "df.shape"
      ],
      "outputs": [
        {
          "output_type": "execute_result",
          "execution_count": 4,
          "data": {
            "text/plain": "(50, 13)"
          },
          "metadata": {}
        }
      ],
      "execution_count": 4,
      "metadata": {
        "gather": {
          "logged": 1744820945538
        }
      }
    },
    {
      "cell_type": "code",
      "source": [
        "#Data types of columns\n",
        "df.dtypes"
      ],
      "outputs": [
        {
          "output_type": "execute_result",
          "execution_count": 5,
          "data": {
            "text/plain": "vehicle_id               int64\nvehicle_type            object\nspeed_kmh                int64\ntimestamp               object\nlocation                object\nholiday                 object\ntemp                   float64\nrain_1h                float64\nsnow_1h                  int64\nclouds_all               int64\nweather_main            object\nweather_description     object\ntraffic_volume           int64\ndtype: object"
          },
          "metadata": {}
        }
      ],
      "execution_count": 5,
      "metadata": {
        "gather": {
          "logged": 1744820948642
        }
      }
    },
    {
      "cell_type": "code",
      "source": [
        "#Select columns \n",
        "selected_columns= ['vehicle_type',\t'speed_kmh',\t'timestamp',\t'location',\n",
        "\t'temp',\t'rain_1h',\t'clouds_all',\t'weather_main',\t'weather_description',\t'traffic_volume'\n",
        "]\n",
        "df = df[selected_columns]\n",
        "df.head()"
      ],
      "outputs": [
        {
          "output_type": "execute_result",
          "execution_count": 6,
          "data": {
            "text/plain": "  vehicle_type  speed_kmh             timestamp location  temp  rain_1h  \\\n0          Car         60  2025-04-08T00:00:00Z   LOC001  22.5      0.0   \n1        Truck         45  2025-04-14T00:05:00Z   LOC001  22.0      0.0   \n2    Motorbike         80  2025-04-14T00:10:00Z   LOC001  21.8      0.0   \n3          Car         70  2025-04-12T00:15:00Z   LOC001  21.5      0.0   \n4      Bicycle         25  2025-04-14T00:20:00Z   LOC001  21.0      1.2   \n\n   clouds_all weather_main weather_description  traffic_volume  \n0          10       Clouds           clear sky            5545  \n1          20       Clouds          few clouds            4516  \n2          50       Clouds    scattered clouds            4767  \n3          80       Clouds          light rain            5026  \n4          90       Clouds       moderate rain            4918  ",
            "text/html": "<div>\n<style scoped>\n    .dataframe tbody tr th:only-of-type {\n        vertical-align: middle;\n    }\n\n    .dataframe tbody tr th {\n        vertical-align: top;\n    }\n\n    .dataframe thead th {\n        text-align: right;\n    }\n</style>\n<table border=\"1\" class=\"dataframe\">\n  <thead>\n    <tr style=\"text-align: right;\">\n      <th></th>\n      <th>vehicle_type</th>\n      <th>speed_kmh</th>\n      <th>timestamp</th>\n      <th>location</th>\n      <th>temp</th>\n      <th>rain_1h</th>\n      <th>clouds_all</th>\n      <th>weather_main</th>\n      <th>weather_description</th>\n      <th>traffic_volume</th>\n    </tr>\n  </thead>\n  <tbody>\n    <tr>\n      <th>0</th>\n      <td>Car</td>\n      <td>60</td>\n      <td>2025-04-08T00:00:00Z</td>\n      <td>LOC001</td>\n      <td>22.5</td>\n      <td>0.0</td>\n      <td>10</td>\n      <td>Clouds</td>\n      <td>clear sky</td>\n      <td>5545</td>\n    </tr>\n    <tr>\n      <th>1</th>\n      <td>Truck</td>\n      <td>45</td>\n      <td>2025-04-14T00:05:00Z</td>\n      <td>LOC001</td>\n      <td>22.0</td>\n      <td>0.0</td>\n      <td>20</td>\n      <td>Clouds</td>\n      <td>few clouds</td>\n      <td>4516</td>\n    </tr>\n    <tr>\n      <th>2</th>\n      <td>Motorbike</td>\n      <td>80</td>\n      <td>2025-04-14T00:10:00Z</td>\n      <td>LOC001</td>\n      <td>21.8</td>\n      <td>0.0</td>\n      <td>50</td>\n      <td>Clouds</td>\n      <td>scattered clouds</td>\n      <td>4767</td>\n    </tr>\n    <tr>\n      <th>3</th>\n      <td>Car</td>\n      <td>70</td>\n      <td>2025-04-12T00:15:00Z</td>\n      <td>LOC001</td>\n      <td>21.5</td>\n      <td>0.0</td>\n      <td>80</td>\n      <td>Clouds</td>\n      <td>light rain</td>\n      <td>5026</td>\n    </tr>\n    <tr>\n      <th>4</th>\n      <td>Bicycle</td>\n      <td>25</td>\n      <td>2025-04-14T00:20:00Z</td>\n      <td>LOC001</td>\n      <td>21.0</td>\n      <td>1.2</td>\n      <td>90</td>\n      <td>Clouds</td>\n      <td>moderate rain</td>\n      <td>4918</td>\n    </tr>\n  </tbody>\n</table>\n</div>"
          },
          "metadata": {}
        }
      ],
      "execution_count": 6,
      "metadata": {
        "gather": {
          "logged": 1744820952652
        }
      }
    },
    {
      "cell_type": "markdown",
      "source": [
        "#### Clean Missing Values"
      ],
      "metadata": {
        "nteract": {
          "transient": {
            "deleting": false
          }
        }
      }
    },
    {
      "cell_type": "code",
      "source": [
        "#count missing values\n",
        "df.isnull().sum()"
      ],
      "outputs": [
        {
          "output_type": "execute_result",
          "execution_count": 9,
          "data": {
            "text/plain": "vehicle_type           0\nspeed_kmh              0\ntimestamp              0\nlocation               1\ntemp                   0\nrain_1h                0\nclouds_all             0\nweather_main           0\nweather_description    0\ntraffic_volume         0\ndtype: int64"
          },
          "metadata": {}
        }
      ],
      "execution_count": 9,
      "metadata": {
        "gather": {
          "logged": 1744821067463
        }
      }
    },
    {
      "cell_type": "code",
      "source": [
        "#drop only rows with NaN\n",
        "df.dropna(subset=['location'], inplace=True)\n",
        "print(df.isnull().sum())"
      ],
      "outputs": [
        {
          "output_type": "stream",
          "name": "stdout",
          "text": "vehicle_type           0\nspeed_kmh              0\ntimestamp              0\nlocation               0\ntemp                   0\nrain_1h                0\nclouds_all             0\nweather_main           0\nweather_description    0\ntraffic_volume         0\ndtype: int64\n"
        }
      ],
      "execution_count": 10,
      "metadata": {
        "gather": {
          "logged": 1744821124169
        }
      }
    },
    {
      "cell_type": "code",
      "source": [
        "#view column values\n",
        "df['timestamp'].unique()"
      ],
      "outputs": [
        {
          "output_type": "execute_result",
          "execution_count": 11,
          "data": {
            "text/plain": "array(['2025-04-08T00:00:00Z', '2025-04-14T00:05:00Z',\n       '2025-04-14T00:10:00Z', '2025-04-12T00:15:00Z',\n       '2025-04-14T00:20:00Z', '2025-04-11T00:25:00Z',\n       '2025-04-24T00:30:00Z', '2025-04-14T00:35:00Z',\n       '2025-04-14T00:40:00Z', '2025-04-14T00:45:00Z',\n       '2025-04-10T00:50:00Z', '2025-04-14T00:55:00Z',\n       '2025-04-14T01:00:00Z', '2025-04-17T01:05:00Z',\n       '2025-04-14T01:10:00Z', '2025-04-19T01:15:00Z',\n       '2025-04-14T01:20:00Z', '2025-04-14T01:25:00Z',\n       '2025-04-16T01:30:00Z', '2025-04-14T01:35:00Z',\n       '2025-04-14T01:40:00Z', '2025-04-17T01:50:00Z',\n       '2025-04-14T01:55:00Z', '2025-04-18T02:00:00Z',\n       '2025-04-14T02:05:00Z', '2025-04-14T02:10:00Z',\n       '2025-04-30T02:15:00Z', '2025-04-14T02:20:00Z',\n       '2025-04-14T02:25:00Z', '2025-04-14T02:30:00Z',\n       '2025-04-28T02:35:00Z', '2025-04-14T02:40:00Z',\n       '2025-04-14T02:45:00Z', '2025-04-14T02:50:00Z',\n       '2025-04-14T02:55:00Z', '2025-04-29T03:00:00Z',\n       '2025-04-14T03:05:00Z', '2025-04-14T03:10:00Z',\n       '2025-04-14T03:15:00Z', '2025-04-13T03:20:00Z',\n       '2025-04-14T03:25:00Z', '2025-04-14T03:30:00Z',\n       '2025-04-14T03:35:00Z', '2025-04-11T03:40:00Z',\n       '2025-04-14T03:45:00Z', '2025-04-14T03:50:00Z',\n       '2025-04-03T03:55:00Z', '2025-04-14T04:00:00Z',\n       '2025-04-14T04:05:00Z'], dtype=object)"
          },
          "metadata": {}
        }
      ],
      "execution_count": 11,
      "metadata": {
        "gather": {
          "logged": 1744821138665
        }
      }
    },
    {
      "cell_type": "code",
      "source": [
        "#Extracting time and day; also convert time into minutes\n",
        "df['timestamp']=pd.to_datetime(df['timestamp'], utc=True)\n",
        "df['time'] = df['timestamp'].dt.hour * 60 + df['timestamp'].dt.minute\n",
        "df['day'] = df['timestamp'].dt.day\n",
        "df = df.drop('timestamp', axis=1)\n",
        "#chcek unique time values in minutes\n",
        "df['time'].unique()"
      ],
      "outputs": [
        {
          "output_type": "execute_result",
          "execution_count": 12,
          "data": {
            "text/plain": "array([  0,   5,  10,  15,  20,  25,  30,  35,  40,  45,  50,  55,  60,\n        65,  70,  75,  80,  85,  90,  95, 100, 110, 115, 120, 125, 130,\n       135, 140, 145, 150, 155, 160, 165, 170, 175, 180, 185, 190, 195,\n       200, 205, 210, 215, 220, 225, 230, 235, 240, 245], dtype=int32)"
          },
          "metadata": {}
        }
      ],
      "execution_count": 12,
      "metadata": {
        "gather": {
          "logged": 1744821144312
        }
      }
    },
    {
      "cell_type": "code",
      "source": [
        "## One-hot encoding \n",
        "df = pd.get_dummies(df, columns= ['vehicle_type', 'location', 'weather_main', 'weather_description'], drop_first=True)"
      ],
      "outputs": [],
      "execution_count": 13,
      "metadata": {
        "gather": {
          "logged": 1744821149576
        }
      }
    },
    {
      "cell_type": "code",
      "source": [
        "# Normalize the 'temp', 'speed', and 'time' columns\n",
        "from sklearn.preprocessing import MinMaxScaler\n",
        "scaler = MinMaxScaler()\n",
        "\n",
        "\n",
        "df[['temp', 'speed_kmh', 'time']] = scaler.fit_transform(df[['temp', 'speed_kmh', 'time']])\n",
        "\n",
        "df.head()\n"
      ],
      "outputs": [
        {
          "output_type": "execute_result",
          "execution_count": 20,
          "data": {
            "text/plain": "   speed_kmh      temp  rain_1h  clouds_all  traffic_volume      time  day  \\\n0   0.563380  0.824561      0.0          10            5545  0.000000    8   \n1   0.352113  0.736842      0.0          20            4516  0.020408   14   \n2   0.845070  0.701754      0.0          50            4767  0.040816   14   \n3   0.704225  0.649123      0.0          80            5026  0.061224   12   \n4   0.070423  0.561404      1.2          90            4918  0.081633   14   \n\n   vehicle_type_Bus  vehicle_type_Car  vehicle_type_Motorbike  ...  \\\n0             False              True                   False  ...   \n1             False             False                   False  ...   \n2             False             False                    True  ...   \n3             False              True                   False  ...   \n4             False             False                   False  ...   \n\n   location_LOC010  location_NAN  weather_main_Clouds  \\\n0            False         False                 True   \n1            False         False                 True   \n2            False         False                 True   \n3            False         False                 True   \n4            False         False                 True   \n\n   weather_description_clear sky  weather_description_few clouds  \\\n0                           True                           False   \n1                          False                            True   \n2                          False                           False   \n3                          False                           False   \n4                          False                           False   \n\n   weather_description_heavy intensity rain  weather_description_light rain  \\\n0                                     False                           False   \n1                                     False                           False   \n2                                     False                           False   \n3                                     False                            True   \n4                                     False                           False   \n\n   weather_description_moderate rain  weather_description_overcast clouds  \\\n0                              False                                False   \n1                              False                                False   \n2                              False                                False   \n3                              False                                False   \n4                               True                                False   \n\n   weather_description_scattered clouds  \n0                                 False  \n1                                 False  \n2                                  True  \n3                                 False  \n4                                 False  \n\n[5 rows x 29 columns]",
            "text/html": "<div>\n<style scoped>\n    .dataframe tbody tr th:only-of-type {\n        vertical-align: middle;\n    }\n\n    .dataframe tbody tr th {\n        vertical-align: top;\n    }\n\n    .dataframe thead th {\n        text-align: right;\n    }\n</style>\n<table border=\"1\" class=\"dataframe\">\n  <thead>\n    <tr style=\"text-align: right;\">\n      <th></th>\n      <th>speed_kmh</th>\n      <th>temp</th>\n      <th>rain_1h</th>\n      <th>clouds_all</th>\n      <th>traffic_volume</th>\n      <th>time</th>\n      <th>day</th>\n      <th>vehicle_type_Bus</th>\n      <th>vehicle_type_Car</th>\n      <th>vehicle_type_Motorbike</th>\n      <th>...</th>\n      <th>location_LOC010</th>\n      <th>location_NAN</th>\n      <th>weather_main_Clouds</th>\n      <th>weather_description_clear sky</th>\n      <th>weather_description_few clouds</th>\n      <th>weather_description_heavy intensity rain</th>\n      <th>weather_description_light rain</th>\n      <th>weather_description_moderate rain</th>\n      <th>weather_description_overcast clouds</th>\n      <th>weather_description_scattered clouds</th>\n    </tr>\n  </thead>\n  <tbody>\n    <tr>\n      <th>0</th>\n      <td>0.563380</td>\n      <td>0.824561</td>\n      <td>0.0</td>\n      <td>10</td>\n      <td>5545</td>\n      <td>0.000000</td>\n      <td>8</td>\n      <td>False</td>\n      <td>True</td>\n      <td>False</td>\n      <td>...</td>\n      <td>False</td>\n      <td>False</td>\n      <td>True</td>\n      <td>True</td>\n      <td>False</td>\n      <td>False</td>\n      <td>False</td>\n      <td>False</td>\n      <td>False</td>\n      <td>False</td>\n    </tr>\n    <tr>\n      <th>1</th>\n      <td>0.352113</td>\n      <td>0.736842</td>\n      <td>0.0</td>\n      <td>20</td>\n      <td>4516</td>\n      <td>0.020408</td>\n      <td>14</td>\n      <td>False</td>\n      <td>False</td>\n      <td>False</td>\n      <td>...</td>\n      <td>False</td>\n      <td>False</td>\n      <td>True</td>\n      <td>False</td>\n      <td>True</td>\n      <td>False</td>\n      <td>False</td>\n      <td>False</td>\n      <td>False</td>\n      <td>False</td>\n    </tr>\n    <tr>\n      <th>2</th>\n      <td>0.845070</td>\n      <td>0.701754</td>\n      <td>0.0</td>\n      <td>50</td>\n      <td>4767</td>\n      <td>0.040816</td>\n      <td>14</td>\n      <td>False</td>\n      <td>False</td>\n      <td>True</td>\n      <td>...</td>\n      <td>False</td>\n      <td>False</td>\n      <td>True</td>\n      <td>False</td>\n      <td>False</td>\n      <td>False</td>\n      <td>False</td>\n      <td>False</td>\n      <td>False</td>\n      <td>True</td>\n    </tr>\n    <tr>\n      <th>3</th>\n      <td>0.704225</td>\n      <td>0.649123</td>\n      <td>0.0</td>\n      <td>80</td>\n      <td>5026</td>\n      <td>0.061224</td>\n      <td>12</td>\n      <td>False</td>\n      <td>True</td>\n      <td>False</td>\n      <td>...</td>\n      <td>False</td>\n      <td>False</td>\n      <td>True</td>\n      <td>False</td>\n      <td>False</td>\n      <td>False</td>\n      <td>True</td>\n      <td>False</td>\n      <td>False</td>\n      <td>False</td>\n    </tr>\n    <tr>\n      <th>4</th>\n      <td>0.070423</td>\n      <td>0.561404</td>\n      <td>1.2</td>\n      <td>90</td>\n      <td>4918</td>\n      <td>0.081633</td>\n      <td>14</td>\n      <td>False</td>\n      <td>False</td>\n      <td>False</td>\n      <td>...</td>\n      <td>False</td>\n      <td>False</td>\n      <td>True</td>\n      <td>False</td>\n      <td>False</td>\n      <td>False</td>\n      <td>False</td>\n      <td>True</td>\n      <td>False</td>\n      <td>False</td>\n    </tr>\n  </tbody>\n</table>\n<p>5 rows × 29 columns</p>\n</div>"
          },
          "metadata": {}
        }
      ],
      "execution_count": 20,
      "metadata": {
        "gather": {
          "logged": 1744821356361
        }
      }
    },
    {
      "cell_type": "markdown",
      "source": [
        "#### Select target and feature column"
      ],
      "metadata": {
        "nteract": {
          "transient": {
            "deleting": false
          }
        }
      }
    },
    {
      "cell_type": "code",
      "source": [
        "X = df.drop('traffic_volume', axis=1)\n",
        "y = df['traffic_volume']"
      ],
      "outputs": [],
      "execution_count": 14,
      "metadata": {
        "gather": {
          "logged": 1744821153326
        }
      }
    },
    {
      "cell_type": "markdown",
      "source": [
        "#### Train model "
      ],
      "metadata": {
        "nteract": {
          "transient": {
            "deleting": false
          }
        }
      }
    },
    {
      "cell_type": "code",
      "source": [
        "X_train, X_test, y_train, y_test = train_test_split(X, y, test_size=0.2, random_state=42)"
      ],
      "outputs": [],
      "execution_count": 21,
      "metadata": {
        "gather": {
          "logged": 1744821362856
        }
      }
    },
    {
      "cell_type": "code",
      "source": [
        "model = LinearRegression()\n",
        "model.fit(X_train, y_train)"
      ],
      "outputs": [
        {
          "output_type": "execute_result",
          "execution_count": 22,
          "data": {
            "text/plain": "LinearRegression()",
            "text/html": "<style>#sk-container-id-2 {\n  /* Definition of color scheme common for light and dark mode */\n  --sklearn-color-text: black;\n  --sklearn-color-line: gray;\n  /* Definition of color scheme for unfitted estimators */\n  --sklearn-color-unfitted-level-0: #fff5e6;\n  --sklearn-color-unfitted-level-1: #f6e4d2;\n  --sklearn-color-unfitted-level-2: #ffe0b3;\n  --sklearn-color-unfitted-level-3: chocolate;\n  /* Definition of color scheme for fitted estimators */\n  --sklearn-color-fitted-level-0: #f0f8ff;\n  --sklearn-color-fitted-level-1: #d4ebff;\n  --sklearn-color-fitted-level-2: #b3dbfd;\n  --sklearn-color-fitted-level-3: cornflowerblue;\n\n  /* Specific color for light theme */\n  --sklearn-color-text-on-default-background: var(--sg-text-color, var(--theme-code-foreground, var(--jp-content-font-color1, black)));\n  --sklearn-color-background: var(--sg-background-color, var(--theme-background, var(--jp-layout-color0, white)));\n  --sklearn-color-border-box: var(--sg-text-color, var(--theme-code-foreground, var(--jp-content-font-color1, black)));\n  --sklearn-color-icon: #696969;\n\n  @media (prefers-color-scheme: dark) {\n    /* Redefinition of color scheme for dark theme */\n    --sklearn-color-text-on-default-background: var(--sg-text-color, var(--theme-code-foreground, var(--jp-content-font-color1, white)));\n    --sklearn-color-background: var(--sg-background-color, var(--theme-background, var(--jp-layout-color0, #111)));\n    --sklearn-color-border-box: var(--sg-text-color, var(--theme-code-foreground, var(--jp-content-font-color1, white)));\n    --sklearn-color-icon: #878787;\n  }\n}\n\n#sk-container-id-2 {\n  color: var(--sklearn-color-text);\n}\n\n#sk-container-id-2 pre {\n  padding: 0;\n}\n\n#sk-container-id-2 input.sk-hidden--visually {\n  border: 0;\n  clip: rect(1px 1px 1px 1px);\n  clip: rect(1px, 1px, 1px, 1px);\n  height: 1px;\n  margin: -1px;\n  overflow: hidden;\n  padding: 0;\n  position: absolute;\n  width: 1px;\n}\n\n#sk-container-id-2 div.sk-dashed-wrapped {\n  border: 1px dashed var(--sklearn-color-line);\n  margin: 0 0.4em 0.5em 0.4em;\n  box-sizing: border-box;\n  padding-bottom: 0.4em;\n  background-color: var(--sklearn-color-background);\n}\n\n#sk-container-id-2 div.sk-container {\n  /* jupyter's `normalize.less` sets `[hidden] { display: none; }`\n     but bootstrap.min.css set `[hidden] { display: none !important; }`\n     so we also need the `!important` here to be able to override the\n     default hidden behavior on the sphinx rendered scikit-learn.org.\n     See: https://github.com/scikit-learn/scikit-learn/issues/21755 */\n  display: inline-block !important;\n  position: relative;\n}\n\n#sk-container-id-2 div.sk-text-repr-fallback {\n  display: none;\n}\n\ndiv.sk-parallel-item,\ndiv.sk-serial,\ndiv.sk-item {\n  /* draw centered vertical line to link estimators */\n  background-image: linear-gradient(var(--sklearn-color-text-on-default-background), var(--sklearn-color-text-on-default-background));\n  background-size: 2px 100%;\n  background-repeat: no-repeat;\n  background-position: center center;\n}\n\n/* Parallel-specific style estimator block */\n\n#sk-container-id-2 div.sk-parallel-item::after {\n  content: \"\";\n  width: 100%;\n  border-bottom: 2px solid var(--sklearn-color-text-on-default-background);\n  flex-grow: 1;\n}\n\n#sk-container-id-2 div.sk-parallel {\n  display: flex;\n  align-items: stretch;\n  justify-content: center;\n  background-color: var(--sklearn-color-background);\n  position: relative;\n}\n\n#sk-container-id-2 div.sk-parallel-item {\n  display: flex;\n  flex-direction: column;\n}\n\n#sk-container-id-2 div.sk-parallel-item:first-child::after {\n  align-self: flex-end;\n  width: 50%;\n}\n\n#sk-container-id-2 div.sk-parallel-item:last-child::after {\n  align-self: flex-start;\n  width: 50%;\n}\n\n#sk-container-id-2 div.sk-parallel-item:only-child::after {\n  width: 0;\n}\n\n/* Serial-specific style estimator block */\n\n#sk-container-id-2 div.sk-serial {\n  display: flex;\n  flex-direction: column;\n  align-items: center;\n  background-color: var(--sklearn-color-background);\n  padding-right: 1em;\n  padding-left: 1em;\n}\n\n\n/* Toggleable style: style used for estimator/Pipeline/ColumnTransformer box that is\nclickable and can be expanded/collapsed.\n- Pipeline and ColumnTransformer use this feature and define the default style\n- Estimators will overwrite some part of the style using the `sk-estimator` class\n*/\n\n/* Pipeline and ColumnTransformer style (default) */\n\n#sk-container-id-2 div.sk-toggleable {\n  /* Default theme specific background. It is overwritten whether we have a\n  specific estimator or a Pipeline/ColumnTransformer */\n  background-color: var(--sklearn-color-background);\n}\n\n/* Toggleable label */\n#sk-container-id-2 label.sk-toggleable__label {\n  cursor: pointer;\n  display: block;\n  width: 100%;\n  margin-bottom: 0;\n  padding: 0.5em;\n  box-sizing: border-box;\n  text-align: center;\n}\n\n#sk-container-id-2 label.sk-toggleable__label-arrow:before {\n  /* Arrow on the left of the label */\n  content: \"▸\";\n  float: left;\n  margin-right: 0.25em;\n  color: var(--sklearn-color-icon);\n}\n\n#sk-container-id-2 label.sk-toggleable__label-arrow:hover:before {\n  color: var(--sklearn-color-text);\n}\n\n/* Toggleable content - dropdown */\n\n#sk-container-id-2 div.sk-toggleable__content {\n  max-height: 0;\n  max-width: 0;\n  overflow: hidden;\n  text-align: left;\n  /* unfitted */\n  background-color: var(--sklearn-color-unfitted-level-0);\n}\n\n#sk-container-id-2 div.sk-toggleable__content.fitted {\n  /* fitted */\n  background-color: var(--sklearn-color-fitted-level-0);\n}\n\n#sk-container-id-2 div.sk-toggleable__content pre {\n  margin: 0.2em;\n  border-radius: 0.25em;\n  color: var(--sklearn-color-text);\n  /* unfitted */\n  background-color: var(--sklearn-color-unfitted-level-0);\n}\n\n#sk-container-id-2 div.sk-toggleable__content.fitted pre {\n  /* unfitted */\n  background-color: var(--sklearn-color-fitted-level-0);\n}\n\n#sk-container-id-2 input.sk-toggleable__control:checked~div.sk-toggleable__content {\n  /* Expand drop-down */\n  max-height: 200px;\n  max-width: 100%;\n  overflow: auto;\n}\n\n#sk-container-id-2 input.sk-toggleable__control:checked~label.sk-toggleable__label-arrow:before {\n  content: \"▾\";\n}\n\n/* Pipeline/ColumnTransformer-specific style */\n\n#sk-container-id-2 div.sk-label input.sk-toggleable__control:checked~label.sk-toggleable__label {\n  color: var(--sklearn-color-text);\n  background-color: var(--sklearn-color-unfitted-level-2);\n}\n\n#sk-container-id-2 div.sk-label.fitted input.sk-toggleable__control:checked~label.sk-toggleable__label {\n  background-color: var(--sklearn-color-fitted-level-2);\n}\n\n/* Estimator-specific style */\n\n/* Colorize estimator box */\n#sk-container-id-2 div.sk-estimator input.sk-toggleable__control:checked~label.sk-toggleable__label {\n  /* unfitted */\n  background-color: var(--sklearn-color-unfitted-level-2);\n}\n\n#sk-container-id-2 div.sk-estimator.fitted input.sk-toggleable__control:checked~label.sk-toggleable__label {\n  /* fitted */\n  background-color: var(--sklearn-color-fitted-level-2);\n}\n\n#sk-container-id-2 div.sk-label label.sk-toggleable__label,\n#sk-container-id-2 div.sk-label label {\n  /* The background is the default theme color */\n  color: var(--sklearn-color-text-on-default-background);\n}\n\n/* On hover, darken the color of the background */\n#sk-container-id-2 div.sk-label:hover label.sk-toggleable__label {\n  color: var(--sklearn-color-text);\n  background-color: var(--sklearn-color-unfitted-level-2);\n}\n\n/* Label box, darken color on hover, fitted */\n#sk-container-id-2 div.sk-label.fitted:hover label.sk-toggleable__label.fitted {\n  color: var(--sklearn-color-text);\n  background-color: var(--sklearn-color-fitted-level-2);\n}\n\n/* Estimator label */\n\n#sk-container-id-2 div.sk-label label {\n  font-family: monospace;\n  font-weight: bold;\n  display: inline-block;\n  line-height: 1.2em;\n}\n\n#sk-container-id-2 div.sk-label-container {\n  text-align: center;\n}\n\n/* Estimator-specific */\n#sk-container-id-2 div.sk-estimator {\n  font-family: monospace;\n  border: 1px dotted var(--sklearn-color-border-box);\n  border-radius: 0.25em;\n  box-sizing: border-box;\n  margin-bottom: 0.5em;\n  /* unfitted */\n  background-color: var(--sklearn-color-unfitted-level-0);\n}\n\n#sk-container-id-2 div.sk-estimator.fitted {\n  /* fitted */\n  background-color: var(--sklearn-color-fitted-level-0);\n}\n\n/* on hover */\n#sk-container-id-2 div.sk-estimator:hover {\n  /* unfitted */\n  background-color: var(--sklearn-color-unfitted-level-2);\n}\n\n#sk-container-id-2 div.sk-estimator.fitted:hover {\n  /* fitted */\n  background-color: var(--sklearn-color-fitted-level-2);\n}\n\n/* Specification for estimator info (e.g. \"i\" and \"?\") */\n\n/* Common style for \"i\" and \"?\" */\n\n.sk-estimator-doc-link,\na:link.sk-estimator-doc-link,\na:visited.sk-estimator-doc-link {\n  float: right;\n  font-size: smaller;\n  line-height: 1em;\n  font-family: monospace;\n  background-color: var(--sklearn-color-background);\n  border-radius: 1em;\n  height: 1em;\n  width: 1em;\n  text-decoration: none !important;\n  margin-left: 1ex;\n  /* unfitted */\n  border: var(--sklearn-color-unfitted-level-1) 1pt solid;\n  color: var(--sklearn-color-unfitted-level-1);\n}\n\n.sk-estimator-doc-link.fitted,\na:link.sk-estimator-doc-link.fitted,\na:visited.sk-estimator-doc-link.fitted {\n  /* fitted */\n  border: var(--sklearn-color-fitted-level-1) 1pt solid;\n  color: var(--sklearn-color-fitted-level-1);\n}\n\n/* On hover */\ndiv.sk-estimator:hover .sk-estimator-doc-link:hover,\n.sk-estimator-doc-link:hover,\ndiv.sk-label-container:hover .sk-estimator-doc-link:hover,\n.sk-estimator-doc-link:hover {\n  /* unfitted */\n  background-color: var(--sklearn-color-unfitted-level-3);\n  color: var(--sklearn-color-background);\n  text-decoration: none;\n}\n\ndiv.sk-estimator.fitted:hover .sk-estimator-doc-link.fitted:hover,\n.sk-estimator-doc-link.fitted:hover,\ndiv.sk-label-container:hover .sk-estimator-doc-link.fitted:hover,\n.sk-estimator-doc-link.fitted:hover {\n  /* fitted */\n  background-color: var(--sklearn-color-fitted-level-3);\n  color: var(--sklearn-color-background);\n  text-decoration: none;\n}\n\n/* Span, style for the box shown on hovering the info icon */\n.sk-estimator-doc-link span {\n  display: none;\n  z-index: 9999;\n  position: relative;\n  font-weight: normal;\n  right: .2ex;\n  padding: .5ex;\n  margin: .5ex;\n  width: min-content;\n  min-width: 20ex;\n  max-width: 50ex;\n  color: var(--sklearn-color-text);\n  box-shadow: 2pt 2pt 4pt #999;\n  /* unfitted */\n  background: var(--sklearn-color-unfitted-level-0);\n  border: .5pt solid var(--sklearn-color-unfitted-level-3);\n}\n\n.sk-estimator-doc-link.fitted span {\n  /* fitted */\n  background: var(--sklearn-color-fitted-level-0);\n  border: var(--sklearn-color-fitted-level-3);\n}\n\n.sk-estimator-doc-link:hover span {\n  display: block;\n}\n\n/* \"?\"-specific style due to the `<a>` HTML tag */\n\n#sk-container-id-2 a.estimator_doc_link {\n  float: right;\n  font-size: 1rem;\n  line-height: 1em;\n  font-family: monospace;\n  background-color: var(--sklearn-color-background);\n  border-radius: 1rem;\n  height: 1rem;\n  width: 1rem;\n  text-decoration: none;\n  /* unfitted */\n  color: var(--sklearn-color-unfitted-level-1);\n  border: var(--sklearn-color-unfitted-level-1) 1pt solid;\n}\n\n#sk-container-id-2 a.estimator_doc_link.fitted {\n  /* fitted */\n  border: var(--sklearn-color-fitted-level-1) 1pt solid;\n  color: var(--sklearn-color-fitted-level-1);\n}\n\n/* On hover */\n#sk-container-id-2 a.estimator_doc_link:hover {\n  /* unfitted */\n  background-color: var(--sklearn-color-unfitted-level-3);\n  color: var(--sklearn-color-background);\n  text-decoration: none;\n}\n\n#sk-container-id-2 a.estimator_doc_link.fitted:hover {\n  /* fitted */\n  background-color: var(--sklearn-color-fitted-level-3);\n}\n</style><div id=\"sk-container-id-2\" class=\"sk-top-container\"><div class=\"sk-text-repr-fallback\"><pre>LinearRegression()</pre><b>In a Jupyter environment, please rerun this cell to show the HTML representation or trust the notebook. <br />On GitHub, the HTML representation is unable to render, please try loading this page with nbviewer.org.</b></div><div class=\"sk-container\" hidden><div class=\"sk-item\"><div class=\"sk-estimator fitted sk-toggleable\"><input class=\"sk-toggleable__control sk-hidden--visually\" id=\"sk-estimator-id-2\" type=\"checkbox\" checked><label for=\"sk-estimator-id-2\" class=\"sk-toggleable__label fitted sk-toggleable__label-arrow fitted\">&nbsp;&nbsp;LinearRegression<a class=\"sk-estimator-doc-link fitted\" rel=\"noreferrer\" target=\"_blank\" href=\"https://scikit-learn.org/1.5/modules/generated/sklearn.linear_model.LinearRegression.html\">?<span>Documentation for LinearRegression</span></a><span class=\"sk-estimator-doc-link fitted\">i<span>Fitted</span></span></label><div class=\"sk-toggleable__content fitted\"><pre>LinearRegression()</pre></div> </div></div></div></div>"
          },
          "metadata": {}
        }
      ],
      "execution_count": 22,
      "metadata": {
        "gather": {
          "logged": 1744821364365
        }
      }
    },
    {
      "cell_type": "markdown",
      "source": [
        "## Model evaluation"
      ],
      "metadata": {
        "nteract": {
          "transient": {
            "deleting": false
          }
        }
      }
    },
    {
      "cell_type": "code",
      "source": [
        "y_pred = model.predict(X_test)\n",
        "\n",
        "# Metrics\n",
        "mae = mean_absolute_error(y_test, y_pred)\n",
        "rmse = np.sqrt(mean_squared_error(y_test, y_pred))\n",
        "r2 = r2_score(y_test, y_pred)\n",
        "\n",
        "# RSE & RAE\n",
        "rse = np.sum((y_test - y_pred)**2) / np.sum((y_test - np.mean(y_test))**2)\n",
        "rae = np.sum(np.abs(y_test - y_pred)) / np.sum(np.abs(y_test - np.mean(y_test)))\n",
        "\n",
        "print(f\"MAE: {mae:.2f}\")\n",
        "print(f\"RMSE: {rmse:.2f}\")\n",
        "print(f\"R²: {r2:.2f}\")\n",
        "print(f\"RSE: {rse:.2f}\")\n",
        "print(f\"RAE: {rae:.2f}\")"
      ],
      "outputs": [
        {
          "output_type": "stream",
          "name": "stdout",
          "text": "MAE: 1445.35\nRMSE: 1639.94\nR²: 0.37\nRSE: 0.63\nRAE: 0.75\n"
        }
      ],
      "execution_count": 23,
      "metadata": {
        "gather": {
          "logged": 1744821366131
        }
      }
    },
    {
      "cell_type": "markdown",
      "source": [
        "#### Visualization"
      ],
      "metadata": {
        "nteract": {
          "transient": {
            "deleting": false
          }
        }
      }
    },
    {
      "cell_type": "code",
      "source": [
        "plt.figure(figsize=(8, 5))\n",
        "plt.scatter(y_test, y_pred, alpha=0.4, color='blue')\n",
        "plt.plot([y_test.min(), y_test.max()], [y_test.min(), y_test.max()], color='red')\n",
        "plt.xlabel('Actual Traffic Volume')\n",
        "plt.ylabel('Predicted Traffic Volume')\n",
        "plt.title('Actual vs Predicted Traffic Volume')\n",
        "plt.grid(True)\n",
        "plt.show()"
      ],
      "outputs": [
        {
          "output_type": "display_data",
          "data": {
            "text/plain": "<Figure size 800x500 with 1 Axes>",
            "image/png": "[encoded data removed]"
          },
          "metadata": {}
        }
      ],
      "execution_count": 18,
      "metadata": {
        "gather": {
          "logged": 1744821171750
        }
      }
    }
  ],
  "metadata": {
    "kernelspec": {
      "name": "python310-sdkv2",
      "language": "python",
      "display_name": "Python 3.10 - SDK v2"
    },
    "language_info": {
      "name": "python",
      "version": "3.10.14",
      "mimetype": "text/x-python",
      "codemirror_mode": {
        "name": "ipython",
        "version": 3
      },
      "pygments_lexer": "ipython3",
      "nbconvert_exporter": "python",
      "file_extension": ".py"
    },
    "microsoft": {
      "ms_spell_check": {
        "ms_spell_check_language": "en"
      }
    },
    "kernel_info": {
      "name": "python310-sdkv2"
    },
    "nteract": {
      "version": "nteract-front-end@1.0.0"
    }
  },
  "nbformat": 4,
  "nbformat_minor": 2
}